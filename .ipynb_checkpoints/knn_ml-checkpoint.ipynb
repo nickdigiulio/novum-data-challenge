{
 "cells": [
  {
   "cell_type": "code",
   "execution_count": 1,
   "metadata": {
    "collapsed": false
   },
   "outputs": [],
   "source": [
    "%matplotlib notebook\n",
    "import pandas as pd\n",
    "from matplotlib import pyplot as plt\n",
    "from sklearn.neighbors import KNeighborsClassifier\n",
    "from sklearn.ensemble import RandomForestClassifier"
   ]
  },
  {
   "cell_type": "code",
   "execution_count": 2,
   "metadata": {
    "collapsed": true
   },
   "outputs": [],
   "source": [
    "def featurize(dat):\n",
    "    '''\n",
    "    Input u.base dataset and output:\n",
    "        1. featues as dataframe\n",
    "        2. targets as series\n",
    "    '''\n",
    "    Y = dat['Rating']\n",
    "    X = pd.merge(pd.merge(dat, ITEM, on='ItemId'), USER, on='UserId')\n",
    "    X = X.drop(['UserId', 'ItemId', 'Rating', 'ReleaseDt', 'Timestamp', 'Title', 'VideoReleaseDt', 'Url', 'Occupation', 'Zip'], axis=1)\n",
    "    return X, Y\n",
    "\n",
    "def gender(x):\n",
    "    if x == 'M':\n",
    "        return 0\n",
    "    else:\n",
    "        return 1\n",
    "\n",
    "def genre(df):\n",
    "    genre_list = [0]*len(df.index.values)\n",
    "    for i in df.index.values:\n",
    "        g = ()\n",
    "        for gen in ['Unknown', 'Action', 'Adventure', 'Animation', 'Children', 'Comedy', 'Crime', 'Documentary', 'Drama', 'Fantasy', 'Noir',\\\n",
    "                      'Horror', 'Musical','Mystery', 'Romance', 'Sci-Fi', 'Thriller', 'War', 'Western']:\n",
    "            if df.loc[i, gen] == 1:\n",
    "                g += (gen,)\n",
    "        genre_list[i] = g\n",
    "    df['Genre'] = pd.Series(genre_list)\n",
    "    return df"
   ]
  },
  {
   "cell_type": "code",
   "execution_count": 3,
   "metadata": {
    "collapsed": false
   },
   "outputs": [],
   "source": [
    "ITEM = pd.read_table('./data/u.item', sep='|',\n",
    "                    names=['ItemId', 'Title', 'ReleaseDt', 'VideoReleaseDt', 'Url', \\\n",
    "                                                      'Unknown', 'Action', 'Adventure', 'Animation', 'Children',\\\n",
    "                                                      'Comedy', 'Crime', 'Documentary', 'Drama', 'Fantasy', 'Noir',\\\n",
    "                                                      'Horror', 'Musical','Mystery', 'Romance', 'Sci-Fi', 'Thriller',\\\n",
    "                                                      'War', 'Western'], index_col=0)\n",
    "USER = pd.read_table('./data/u.user', sep='|', names=['UserId', 'Age', 'Gender','Occupation', 'Zip'])\n",
    "RUNTIME = pd.read_table('./data/u.runtime', sep='|', names = ['ItemId', 'Runtime'], header=0, index_col=0)\n",
    "OCCUPATION = pd.read_table('./data/u.occupation', sep='|', names=['Occupation']).reset_index()\n",
    "OCCUPATION = OCCUPATION.rename(columns = {'index':'Occupation#'})\n",
    "\n",
    "USER = pd.merge(USER, OCCUPATION, on='Occupation')\n",
    "USER['Gender'] = USER['Gender'].apply(gender)\n",
    "\n",
    "# Add runtime data to item dataset\n",
    "ITEM = pd.merge(ITEM, RUNTIME, how='left', left_index=True, right_index=True).reset_index()\n",
    "#ITEM = genre(ITEM)"
   ]
  },
  {
   "cell_type": "code",
   "execution_count": null,
   "metadata": {
    "collapsed": false
   },
   "outputs": [],
   "source": [
    "train_data = []\n",
    "test_data = []\n",
    "for i in range(1, 5):\n",
    "    train_data.append(pd.read_table('./data/u{}.base'.format(i), names=['UserId', 'ItemId', 'Rating', 'Timestamp']))\n",
    "    test_data.append(pd.read_table('./data/u{}.test'.format(i), names=['UserId', 'ItemId', 'Rating', 'Timestamp']))\n",
    "\n",
    "train_data = pd.concat(train_data)\n",
    "test_data = pd.concat(test_data)\n",
    "\n",
    "x_train, y_train = featurize(train_data)\n",
    "x_test, y_test = featurize(test_data)\n",
    "\n",
    "knn = KNeighborsClassifier()\n",
    "knn.fit(x_train, y_train)\n",
    "\n",
    "y_predict = knn.predict(x_test)"
   ]
  },
  {
   "cell_type": "code",
   "execution_count": null,
   "metadata": {
    "collapsed": false
   },
   "outputs": [],
   "source": [
    "def count_vals(y):\n",
    "    vals = sorted(list(set(y)))\n",
    "    c = [0]*len(vals)\n",
    "    for i in y:\n",
    "        c[i-1]+=1\n",
    "    return vals, c\n",
    "\n",
    "error = 0\n",
    "for i in xrange(len(y_test)):\n",
    "    error += abs(list(y_test)[i] - list(y_predict)[i])**2\n",
    "\n",
    "print \"MSE: {}\".format(float(error)/len(y_test))"
   ]
  },
  {
   "cell_type": "code",
   "execution_count": null,
   "metadata": {
    "collapsed": false
   },
   "outputs": [],
   "source": [
    "x1, y1 = count_vals(y_test)\n",
    "x2, y2 = count_vals(y_predict)\n",
    "plt.figure()\n",
    "plt.plot(x1, y1, x2, y2)\n",
    "plt.legend(['Test Distribution', 'Predicted Distribution'], loc=2)\n",
    "plt.show()"
   ]
  },
  {
   "cell_type": "code",
   "execution_count": null,
   "metadata": {
    "collapsed": false
   },
   "outputs": [],
   "source": [
    "x, y = count_vals(y_test)\n",
    "print y"
   ]
  },
  {
   "cell_type": "code",
   "execution_count": null,
   "metadata": {
    "collapsed": true
   },
   "outputs": [],
   "source": []
  }
 ],
 "metadata": {
  "kernelspec": {
   "display_name": "Python 2",
   "language": "python",
   "name": "python2"
  },
  "language_info": {
   "codemirror_mode": {
    "name": "ipython",
    "version": 2
   },
   "file_extension": ".py",
   "mimetype": "text/x-python",
   "name": "python",
   "nbconvert_exporter": "python",
   "pygments_lexer": "ipython2",
   "version": "2.7.12"
  }
 },
 "nbformat": 4,
 "nbformat_minor": 0
}
